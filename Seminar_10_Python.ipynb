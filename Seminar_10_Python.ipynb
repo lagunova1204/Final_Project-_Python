{
  "nbformat": 4,
  "nbformat_minor": 0,
  "metadata": {
    "colab": {
      "provenance": [],
      "authorship_tag": "ABX9TyPTU6C2EiNAAFQw1+/HHnhr",
      "include_colab_link": true
    },
    "kernelspec": {
      "name": "python3",
      "display_name": "Python 3"
    },
    "language_info": {
      "name": "python"
    }
  },
  "cells": [
    {
      "cell_type": "markdown",
      "metadata": {
        "id": "view-in-github",
        "colab_type": "text"
      },
      "source": [
        "<a href=\"https://colab.research.google.com/github/lagunova1204/Final_Project-_Python/blob/main/Seminar_10_Python.ipynb\" target=\"_parent\"><img src=\"https://colab.research.google.com/assets/colab-badge.svg\" alt=\"Open In Colab\"/></a>"
      ]
    },
    {
      "cell_type": "markdown",
      "source": [
        "Задача 44: В ячейке ниже представлен код генерирующий DataFrame, которая состоит всего из 1 столбца. Ваша задача перевести его в one hot вид. Сможете ли вы это сделать без get_dummies?\n",
        "\n",
        "import random\n",
        "lst = ['robot'] * 10\n",
        "lst += ['human'] * 10\n",
        "random.shuffle(lst)\n",
        "data = pd.DataFrame({'whoAmI':lst})\n",
        "data.head()\n",
        "\n",
        "Статья про one hot вид"
      ],
      "metadata": {
        "id": "dEn5KxVB4iYH"
      }
    },
    {
      "cell_type": "code",
      "execution_count": 1,
      "metadata": {
        "colab": {
          "base_uri": "https://localhost:8080/"
        },
        "id": "tFikEWYj4THj",
        "outputId": "27303cad-f008-45bb-f98f-86de1eb0f5f8"
      },
      "outputs": [
        {
          "output_type": "stream",
          "name": "stdout",
          "text": [
            "  robot human\n",
            "0   NaN  True\n",
            "1  True   NaN\n",
            "2  True   NaN\n",
            "3   NaN  True\n",
            "4   NaN  True\n"
          ]
        }
      ],
      "source": [
        "import random\n",
        "import pandas as pd\n",
        "\n",
        "lst = ['robot'] * 10\n",
        "lst += ['human'] * 10\n",
        "random.shuffle(lst)\n",
        "\n",
        "# создаем новые столбцы, присваиваем им значение False\n",
        "data = pd.DataFrame().assign(robot=False, human=False)\n",
        "\n",
        "# функция, которую будем применять к каждому элементу столбца 'whoAmI'\n",
        "def set_one_hot(row):\n",
        "    if row['whoAmI'] == 'robot':\n",
        "        row['robot'] = True\n",
        "    elif row['whoAmI'] == 'human':\n",
        "        row['human'] = True\n",
        "    return row\n",
        "\n",
        "# применяем функцию set_one_hot() к каждой строке в столбце 'whoAmI'\n",
        "data = data.assign(whoAmI=lst).apply(set_one_hot, axis=1)\n",
        "\n",
        "# удаляем исходный столбец 'whoAmI'\n",
        "data = data.drop(columns=['whoAmI'])\n",
        "\n",
        "print(data.head())\n",
        "     "
      ]
    }
  ]
}